{
 "cells": [
  {
   "cell_type": "code",
   "execution_count": 4,
   "metadata": {},
   "outputs": [
    {
     "name": "stdout",
     "output_type": "stream",
     "text": [
      "enter product id1001\n",
      "enter product namesnikers\n",
      "enter type of productchocolate\n",
      "enter price10\n",
      "enter quantity2\n",
      "enter name of the companyMars\n"
     ]
    }
   ],
   "source": [
    "import json\n",
    "pid=input(\"enter product id\")\n",
    "name=input(\"enter product name\")\n",
    "ptype=input(\"enter type of product\")\n",
    "price=int(input(\"enter price\"))\n",
    "qu=int(input(\"enter quantity\"))\n",
    "cmp=input(\"enter name of the company\")\n",
    "fp=open(\"rec2.json\",\"r\")\n",
    "data=fp.read()\n",
    "fp.close()\n",
    "products=json.loads(data)\n",
    "for i in products:\n",
    "    if(i==pid):\n",
    "        products[i]['price']=price\n",
    "        products[i]['quantity']+=qu\n",
    "        js=json.dumps(products)\n",
    "        fp=open(\"rec2.json\",\"w\")\n",
    "        fp.write(js)\n",
    "        fp.close()\n",
    "        break\n",
    "else:        \n",
    "    products[pid]={\"pname\":name,\"Ptype\":ptype,\"price\":price,\"quantity\":qu,\"company\":cmp}\n",
    "    js=json.dumps(products)\n",
    "    fp=open(\"rec2.json\",\"w\")\n",
    "    fp.write(js)\n",
    "    fp.close()\n"
   ]
  }
 ],
 "metadata": {
  "kernelspec": {
   "display_name": "Python 3",
   "language": "python",
   "name": "python3"
  },
  "language_info": {
   "codemirror_mode": {
    "name": "ipython",
    "version": 3
   },
   "file_extension": ".py",
   "mimetype": "text/x-python",
   "name": "python",
   "nbconvert_exporter": "python",
   "pygments_lexer": "ipython3",
   "version": "3.7.4"
  }
 },
 "nbformat": 4,
 "nbformat_minor": 2
}
